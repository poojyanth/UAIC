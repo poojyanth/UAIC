{
 "cells": [
  {
   "cell_type": "code",
   "execution_count": 2,
   "metadata": {},
   "outputs": [],
   "source": [
    "import os\n",
    "import pandas as pd\n",
    "import base64\n",
    "\n",
    "# Function to read and encode images\n",
    "def image_to_base64(file_path):\n",
    "    with open(file_path, \"rb\") as img_file:\n",
    "        return base64.b64encode(img_file.read()).decode('utf-8')\n",
    "\n",
    "# Path to the folder containing images\n",
    "folder_path = 'Datasets/Fish/Catla/Body/'\n",
    "\n",
    "# List to store image data\n",
    "data = []\n",
    "\n",
    "# Loop through each file in the folder\n",
    "for filename in os.listdir(folder_path):\n",
    "    if filename.endswith(('.jpg', '.JPG')):\n",
    "        file_path = os.path.join(folder_path, filename)\n",
    "        label = os.path.splitext(filename)[0]\n",
    "        encoded_image = image_to_base64(file_path)\n",
    "        data.append({'Label': label, 'Image': encoded_image})\n",
    "\n",
    "# Create a DataFrame and save as CSV\n",
    "df = pd.DataFrame(data)\n",
    "df.to_csv('Datasets/FishCSV/Catla/Body.csv', index=False)\n"
   ]
  },
  {
   "cell_type": "code",
   "execution_count": 4,
   "metadata": {},
   "outputs": [],
   "source": [
    "import os\n",
    "import pandas as pd\n",
    "import numpy as np\n",
    "from PIL import Image\n",
    "import base64\n",
    "\n",
    "# Function to load and encode images\n",
    "def load_and_encode_image(file_path, image_size):\n",
    "    img = Image.open(file_path).convert('RGB')  # Ensure RGB format\n",
    "    img = img.resize(image_size)  # Resize image if needed\n",
    "    img_byte_array = np.array(img)\n",
    "    img_encoded = base64.b64encode(img_byte_array).decode('utf-8')\n",
    "    return img_encoded\n",
    "\n",
    "# Path to the folder containing images\n",
    "folder_path = 'Datasets/Fish/Catla/Body/'\n",
    "\n",
    "# Image size (modify according to your model's input size)\n",
    "image_size = (224, 224)\n",
    "\n",
    "# List to store image data and labels\n",
    "image_data = []\n",
    "labels = []\n",
    "\n",
    "# Loop through each file in the folder\n",
    "for filename in os.listdir(folder_path):\n",
    "    if filename.endswith(('.JPG')):\n",
    "        file_path = os.path.join(folder_path, filename)\n",
    "        label = os.path.splitext(filename)[0]\n",
    "        encoded_image = load_and_encode_image(file_path, image_size)\n",
    "        image_data.append(encoded_image)\n",
    "        labels.append(label)\n",
    "\n",
    "# Create a DataFrame with image data and labels\n",
    "data = {'Label': labels, 'Image': image_data}\n",
    "df = pd.DataFrame(data)\n",
    "\n",
    "# Save DataFrame to a CSV file\n",
    "df.to_csv('image_data_for_classification.csv', index=False)\n"
   ]
  }
 ],
 "metadata": {
  "kernelspec": {
   "display_name": "Python 3",
   "language": "python",
   "name": "python3"
  },
  "language_info": {
   "codemirror_mode": {
    "name": "ipython",
    "version": 3
   },
   "file_extension": ".py",
   "mimetype": "text/x-python",
   "name": "python",
   "nbconvert_exporter": "python",
   "pygments_lexer": "ipython3",
   "version": "3.10.11"
  }
 },
 "nbformat": 4,
 "nbformat_minor": 2
}
