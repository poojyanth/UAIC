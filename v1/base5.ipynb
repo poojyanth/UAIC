{
 "cells": [
  {
   "cell_type": "code",
   "execution_count": 1,
   "metadata": {},
   "outputs": [
    {
     "name": "stdout",
     "output_type": "stream",
     "text": [
      "WARNING:tensorflow:From C:\\Users\\POOJYANTH REDDY\\AppData\\Local\\Packages\\PythonSoftwareFoundation.Python.3.10_qbz5n2kfra8p0\\LocalCache\\local-packages\\Python310\\site-packages\\keras\\src\\losses.py:2976: The name tf.losses.sparse_softmax_cross_entropy is deprecated. Please use tf.compat.v1.losses.sparse_softmax_cross_entropy instead.\n",
      "\n"
     ]
    }
   ],
   "source": [
    "import os\n",
    "import cv2\n",
    "import numpy as np\n",
    "import matplotlib.pyplot as plt\n",
    "from sklearn.preprocessing import LabelEncoder\n",
    "from sklearn.model_selection import train_test_split\n",
    "import tensorflow as tf\n",
    "from tensorflow.keras import layers, models\n",
    "from tensorflow.keras.applications import ResNet152\n",
    "from tensorflow.keras.preprocessing.image import ImageDataGenerator"
   ]
  },
  {
   "cell_type": "code",
   "execution_count": 2,
   "metadata": {},
   "outputs": [
    {
     "name": "stdout",
     "output_type": "stream",
     "text": [
      "Class 'Catla' has 20 images.\n",
      "Class 'Cyprinus carpio' has 50 images.\n",
      "Class 'Grass Carp' has 11 images.\n",
      "Class 'Mori' has 70 images.\n",
      "Class 'Rohu' has 73 images.\n",
      "Class 'Silver' has 47 images.\n",
      "Number of images: 228\n",
      "Number of labels: 228\n"
     ]
    }
   ],
   "source": [
    "def load_and_process_images(path_dir, class_labels, target_num_images):\n",
    "    images = []\n",
    "    labels = []\n",
    "    min_images = 99999999\n",
    "    class_images = {}\n",
    "    \n",
    "    for label, class_name in enumerate(class_labels):\n",
    "        class_dir = os.path.join(path_dir, class_name)\n",
    "        class_images[class_name] = []\n",
    "        \n",
    "        if not os.path.exists(class_dir):\n",
    "            print(f\"Directory '{class_name}' not found in '{path_dir}'. Skipping...\")\n",
    "            continue\n",
    "        \n",
    "        for jpg in os.listdir(class_dir):\n",
    "            image_path = os.path.join(class_dir, jpg)\n",
    "            image_high_resolution = cv2.imread(image_path)\n",
    "            \n",
    "            if image_high_resolution is None:\n",
    "                print(f\"Could not read image '{jpg}' in '{class_name}' directory. Skipping...\")\n",
    "                continue\n",
    "            \n",
    "            # print(f\"Reading image '{jpg}' in '{class_name}' directory...\")\n",
    "            image_change_color = cv2.cvtColor(image_high_resolution, cv2.COLOR_BGR2RGB)\n",
    "            image_low_resolution = cv2.resize(image_change_color, (200, 200))\n",
    "            class_images[class_name].append(image_low_resolution)\n",
    "            min_images = min(min_images, len(class_images[class_name]))\n",
    "        print(f\"Class '{class_name}' has {len(class_images[class_name])} images.\")\n",
    "\n",
    "\n",
    "    for class_name, images_list in class_images.items():\n",
    "        if len(images_list) > target_num_images:\n",
    "            images.extend(images_list[:target_num_images])\n",
    "            labels.extend([class_name] * target_num_images)\n",
    "        else:\n",
    "            images.extend(images_list)\n",
    "            labels.extend([class_name] * len(images_list))\n",
    "    \n",
    "    return np.asarray(images), np.asarray(labels), min_images, class_images\n",
    "\n",
    "\n",
    "\n",
    "dataset_directory = './Datasets/DataImages/'\n",
    "class_labels = ['Catla', 'Cyprinus carpio', 'Grass Carp', 'Mori', 'Rohu', 'Silver']\n",
    "target_num_images = 50\n",
    "\n",
    "images, labels, min_images, class_images = load_and_process_images(dataset_directory, class_labels, target_num_images)\n",
    "\n",
    "print(f\"Number of images: {len(images)}\")\n",
    "print(f\"Number of labels: {len(labels)}\")\n"
   ]
  },
  {
   "cell_type": "code",
   "execution_count": 3,
   "metadata": {},
   "outputs": [],
   "source": [
    "def Image_Populator(class_images, min_images, method='flip'):\n",
    "    new_images = []\n",
    "    new_labels = []\n",
    "    \n",
    "    for class_name, images in class_images.items():\n",
    "        num_images = len(images)\n",
    "        if num_images < min_images:\n",
    "            num_to_generate = min_images - num_images\n",
    "            print(f\"Populating class '{class_name}' with {num_to_generate} new images using {method}...\")\n",
    "            \n",
    "            for i in range(num_to_generate):\n",
    "                original_image = images[i % num_images]\n",
    "                if method == 'rotate_180':\n",
    "                    new_image = np.rot90(original_image, 2)\n",
    "                elif method == 'flip':\n",
    "                    new_image = np.fliplr(original_image)\n",
    "                elif method == 'rotate_270':\n",
    "                    new_image = np.rot90(original_image, 3)\n",
    "                elif method == 'rotate_90':\n",
    "                    new_image = np.rot90(original_image)\n",
    "                elif method == 'flip_rotate_270':\n",
    "                    new_image = np.rot90(np.fliplr(original_image), 3)\n",
    "                \n",
    "                new_images.append(new_image)\n",
    "                new_labels.append(class_name)\n",
    "    \n",
    "    return np.asarray(new_images), np.asarray(new_labels)\n"
   ]
  },
  {
   "cell_type": "code",
   "execution_count": 4,
   "metadata": {},
   "outputs": [
    {
     "name": "stdout",
     "output_type": "stream",
     "text": [
      "Populating class 'Catla' with 30 new images using rotate_180...\n",
      "Populating class 'Grass Carp' with 39 new images using rotate_180...\n",
      "Populating class 'Silver' with 3 new images using rotate_180...\n",
      "(72, 200, 200, 3)\n",
      "Number of new labels: 72\n"
     ]
    }
   ],
   "source": [
    "if len(images) == 0:\n",
    "    print(\"No images found. Exiting...\")\n",
    "else:\n",
    "    X_train, X_test, y_train, y_test = train_test_split(images, labels, test_size=0.2, random_state=42)\n",
    "\n",
    "    # Choose one of the methods: 'rotate_180', 'flip', 'rotate_270', 'rotate_90', 'flip_rotate_270'\n",
    "    method = 'rotate_180'\n",
    "    X_train_new, y_train_new = Image_Populator(class_images, target_num_images, method)\n",
    "\n",
    "    print(X_train_new.shape)\n",
    "    print(f\"Number of new labels: {len(y_train_new)}\")\n",
    "\n",
    "    # Concatenate the original training data with the new generated data\n",
    "    X_train = np.concatenate([X_train, X_train_new])\n",
    "    y_train = np.concatenate([y_train, y_train_new])\n",
    "\n",
    "    label_encoder = LabelEncoder()\n",
    "    y_train_encoded = label_encoder.fit_transform(y_train)\n",
    "    y_test_encoded = label_encoder.fit_transform(y_test)"
   ]
  },
  {
   "cell_type": "code",
   "execution_count": 5,
   "metadata": {},
   "outputs": [
    {
     "name": "stdout",
     "output_type": "stream",
     "text": [
      "(228, 200, 200, 3)\n",
      "(228,)\n",
      "1\n"
     ]
    }
   ],
   "source": [
    "print(images.shape)\n",
    "print(labels.shape)\n",
    "print(min_images)"
   ]
  },
  {
   "cell_type": "code",
   "execution_count": 6,
   "metadata": {},
   "outputs": [
    {
     "name": "stdout",
     "output_type": "stream",
     "text": [
      "(254, 200, 200, 3)\n",
      "(254,)\n"
     ]
    }
   ],
   "source": [
    "print(X_train.shape)\n",
    "print(y_train.shape)"
   ]
  },
  {
   "cell_type": "code",
   "execution_count": 21,
   "metadata": {},
   "outputs": [
    {
     "name": "stdout",
     "output_type": "stream",
     "text": [
      "Epoch 1/20\n",
      "8/8 [==============================] - 36s 4s/step - loss: 33.0539 - accuracy: 0.3976 - val_loss: 30.6829 - val_accuracy: 0.5000\n",
      "Epoch 2/20\n",
      "8/8 [==============================] - 24s 3s/step - loss: 12.1571 - accuracy: 0.7087 - val_loss: 5.7517 - val_accuracy: 0.7391\n",
      "Epoch 3/20\n",
      "8/8 [==============================] - 24s 3s/step - loss: 3.5768 - accuracy: 0.8622 - val_loss: 4.9656 - val_accuracy: 0.8043\n",
      "Epoch 4/20\n",
      "8/8 [==============================] - 24s 3s/step - loss: 1.0054 - accuracy: 0.9291 - val_loss: 5.2874 - val_accuracy: 0.8043\n",
      "Epoch 5/20\n",
      "8/8 [==============================] - 24s 3s/step - loss: 0.8508 - accuracy: 0.9409 - val_loss: 2.8870 - val_accuracy: 0.8478\n",
      "Epoch 6/20\n",
      "8/8 [==============================] - 24s 3s/step - loss: 0.9300 - accuracy: 0.9449 - val_loss: 3.6022 - val_accuracy: 0.8696\n",
      "Epoch 7/20\n",
      "8/8 [==============================] - 24s 3s/step - loss: 0.4759 - accuracy: 0.9449 - val_loss: 4.1557 - val_accuracy: 0.7826\n",
      "Epoch 8/20\n",
      "8/8 [==============================] - 24s 3s/step - loss: 0.1990 - accuracy: 0.9803 - val_loss: 4.0848 - val_accuracy: 0.8043\n",
      "Epoch 9/20\n",
      "8/8 [==============================] - 24s 3s/step - loss: 0.1571 - accuracy: 0.9685 - val_loss: 3.9858 - val_accuracy: 0.8261\n",
      "Epoch 10/20\n",
      "8/8 [==============================] - 25s 3s/step - loss: 0.6790 - accuracy: 0.9528 - val_loss: 3.9250 - val_accuracy: 0.7826\n",
      "Epoch 11/20\n",
      "8/8 [==============================] - 25s 3s/step - loss: 0.3328 - accuracy: 0.9724 - val_loss: 5.5012 - val_accuracy: 0.8043\n",
      "Epoch 12/20\n",
      "8/8 [==============================] - 24s 3s/step - loss: 0.5346 - accuracy: 0.9488 - val_loss: 5.9757 - val_accuracy: 0.8043\n",
      "Epoch 13/20\n",
      "8/8 [==============================] - 25s 3s/step - loss: 0.4035 - accuracy: 0.9646 - val_loss: 5.8185 - val_accuracy: 0.8478\n",
      "Epoch 14/20\n",
      "8/8 [==============================] - 24s 3s/step - loss: 0.5087 - accuracy: 0.9646 - val_loss: 3.8842 - val_accuracy: 0.8043\n",
      "Epoch 15/20\n",
      "8/8 [==============================] - 24s 3s/step - loss: 0.1215 - accuracy: 0.9843 - val_loss: 3.3984 - val_accuracy: 0.8261\n",
      "Epoch 16/20\n",
      "8/8 [==============================] - 24s 3s/step - loss: 0.2608 - accuracy: 0.9646 - val_loss: 3.9104 - val_accuracy: 0.8261\n",
      "Epoch 17/20\n",
      "8/8 [==============================] - 24s 3s/step - loss: 0.1148 - accuracy: 0.9764 - val_loss: 5.3279 - val_accuracy: 0.7826\n",
      "Epoch 18/20\n",
      "8/8 [==============================] - 24s 3s/step - loss: 0.3034 - accuracy: 0.9764 - val_loss: 4.2760 - val_accuracy: 0.8043\n",
      "Epoch 19/20\n",
      "8/8 [==============================] - 24s 3s/step - loss: 0.0989 - accuracy: 0.9843 - val_loss: 3.8747 - val_accuracy: 0.8261\n",
      "Epoch 20/20\n",
      "8/8 [==============================] - 24s 3s/step - loss: 0.1363 - accuracy: 0.9843 - val_loss: 3.6543 - val_accuracy: 0.8043\n"
     ]
    },
    {
     "data": {
      "image/png": "[encoded data removed]",
      "text/plain": [
       "<Figure size 800x600 with 1 Axes>"
      ]
     },
     "metadata": {},
     "output_type": "display_data"
    },
    {
     "name": "stdout",
     "output_type": "stream",
     "text": [
      "2/2 [==============================] - 4s 1s/step - loss: 3.6543 - accuracy: 0.8043\n",
      "Test Accuracy: 80.43%\n"
     ]
    }
   ],
   "source": [
    "\n",
    "base_model = ResNet152(weights='imagenet', include_top=False, input_shape=(200, 200, 3))\n",
    "\n",
    "# add a Fully connected later for better loss \n",
    "\n",
    "for layer in base_model.layers:\n",
    "    layer.trainable = False\n",
    "\n",
    "model = models.Sequential()\n",
    "model.add(base_model)\n",
    "model.add(layers.Flatten())\n",
    "model.add(layers.Dense(256, activation='relu'))\n",
    "model.add(layers.Dropout(0.5))\n",
    "model.add(layers.Dense(len(class_labels), activation='softmax'))\n",
    "\n",
    "model.compile(optimizer='adam', loss='sparse_categorical_crossentropy', metrics=['accuracy'])\n",
    "\n",
    "history = model.fit(X_train, y_train_encoded, epochs=20, batch_size=32, validation_data=(X_test, y_test_encoded))\n",
    "\n",
    "plt.figure(figsize=(8, 6))\n",
    "plt.plot(history.history['accuracy'], label='Training Accuracy')\n",
    "plt.plot(history.history['val_accuracy'], label='Validation Accuracy')\n",
    "plt.xlabel('Epochs')\n",
    "plt.ylabel('Accuracy')\n",
    "plt.title('Training and Validation Accuracy')\n",
    "plt.legend()\n",
    "plt.show()\n",
    "\n",
    "test_loss, test_accuracy = model.evaluate(X_test, y_test_encoded)\n",
    "\n",
    "print(f\"Test Accuracy: {test_accuracy * 100:.2f}%\")\n"
   ]
  },
  {
   "cell_type": "code",
   "execution_count": 14,
   "metadata": {},
   "outputs": [
    {
     "name": "stdout",
     "output_type": "stream",
     "text": [
      "2/2 [==============================] - 4s 1s/step\n",
      "Silver, Silver\n",
      "Cyprinus carpio, Cyprinus carpio\n",
      "Catla, Catla\n",
      "Silver, Silver\n",
      "Catla, Cyprinus carpio\n",
      "Silver, Silver\n",
      "Cyprinus carpio, Cyprinus carpio\n",
      "Silver, Silver\n",
      "Rohu, Rohu\n",
      "Mori, Rohu\n",
      "Silver, Silver\n",
      "Catla, Cyprinus carpio\n",
      "Mori, Mori\n",
      "Rohu, Rohu\n",
      "Silver, Silver\n",
      "Rohu, Rohu\n",
      "Rohu, Rohu\n",
      "Cyprinus carpio, Cyprinus carpio\n",
      "Silver, Silver\n",
      "Silver, Silver\n",
      "Mori, Mori\n",
      "Rohu, Cyprinus carpio\n",
      "Silver, Silver\n",
      "Rohu, Mori\n",
      "Mori, Mori\n",
      "Catla, Cyprinus carpio\n",
      "Rohu, Rohu\n",
      "Mori, Mori\n",
      "Mori, Mori\n",
      "Mori, Mori\n",
      "Silver, Silver\n",
      "Cyprinus carpio, Cyprinus carpio\n",
      "Mori, Mori\n",
      "Cyprinus carpio, Cyprinus carpio\n",
      "Catla, Catla\n",
      "Mori, Mori\n",
      "Rohu, Mori\n",
      "Mori, Rohu\n",
      "Mori, Mori\n",
      "Rohu, Cyprinus carpio\n",
      "Mori, Mori\n",
      "Rohu, Rohu\n",
      "Rohu, Rohu\n",
      "Grass Carp, Grass Carp\n",
      "Mori, Mori\n",
      "Mori, Mori\n",
      "                 precision    recall  f1-score   support\n",
      "\n",
      "          Catla       1.00      0.40      0.57         5\n",
      "Cyprinus carpio       0.50      1.00      0.67         5\n",
      "     Grass Carp       1.00      1.00      1.00         1\n",
      "           Mori       0.86      0.86      0.86        14\n",
      "           Rohu       0.78      0.64      0.70        11\n",
      "         Silver       1.00      1.00      1.00        10\n",
      "\n",
      "       accuracy                           0.80        46\n",
      "      macro avg       0.86      0.82      0.80        46\n",
      "   weighted avg       0.85      0.80      0.80        46\n",
      "\n"
     ]
    }
   ],
   "source": [
    "from sklearn.metrics import classification_report\n",
    "\n",
    "predictions = model.predict(X_test)\n",
    "\n",
    "predicted_classes = np.argmax(predictions, axis=1)\n",
    "\n",
    "class_names = class_labels  # Assuming class_labels is a list of strings\n",
    "\n",
    "# Convert class_names to a dictionary for easy lookup\n",
    "class_dict = {class_name: i for i, class_name in enumerate(class_names)}\n",
    "\n",
    "# Convert string labels in y_test to integers\n",
    "y_test_int = np.array([class_dict[label] for label in y_test])\n",
    "\n",
    "for i in range(len(y_test_int)):\n",
    "    true_class = class_names[y_test_int[i]]\n",
    "    predicted_class = class_names[predicted_classes[i]]\n",
    "    print(f\"{true_class}, {predicted_class}\")\n",
    "\n",
    "print(classification_report(y_test_int, predicted_classes, target_names=class_names))\n"
   ]
  },
  {
   "cell_type": "code",
   "execution_count": 13,
   "metadata": {},
   "outputs": [
    {
     "name": "stdout",
     "output_type": "stream",
     "text": [
      "<U15\n",
      "int64\n"
     ]
    }
   ],
   "source": [
    "print(y_test.dtype)\n",
    "print(predicted_classes.dtype)\n"
   ]
  },
  {
   "cell_type": "code",
   "execution_count": 20,
   "metadata": {},
   "outputs": [
    {
     "name": "stdout",
     "output_type": "stream",
     "text": [
      "1/1 [==============================] - 0s 142ms/step\n",
      "Predicted Class: Catla\n"
     ]
    }
   ],
   "source": [
    "import cv2\n",
    "from tensorflow.keras.preprocessing import image as keras_image\n",
    "\n",
    "custom_image_path = './Datasets/popular-rohu-rohit-fish-indian-subcontinent-over-white-background-76376014.webp'\n",
    "custom_image = cv2.imread(custom_image_path)\n",
    "custom_image = cv2.cvtColor(custom_image, cv2.COLOR_BGR2RGB)\n",
    "custom_image = cv2.resize(custom_image, (200, 200)) \n",
    "custom_image = custom_image.astype('float32') / 255.0 \n",
    "\n",
    "custom_image = np.expand_dims(custom_image, axis=0)\n",
    "\n",
    "predictions = model.predict(custom_image)\n",
    "predicted_class_index = np.argmax(predictions[0])\n",
    "predicted_class = class_labels[predicted_class_index]\n",
    "\n",
    "print(f\"Predicted Class: {predicted_class}\")\n"
   ]
  }
 ],
 "metadata": {
  "kernelspec": {
   "display_name": "Python 3",
   "language": "python",
   "name": "python3"
  },
  "language_info": {
   "codemirror_mode": {
    "name": "ipython",
    "version": 3
   },
   "file_extension": ".py",
   "mimetype": "text/x-python",
   "name": "python",
   "nbconvert_exporter": "python",
   "pygments_lexer": "ipython3",
   "version": "3.10.11"
  }
 },
 "nbformat": 4,
 "nbformat_minor": 2
}
