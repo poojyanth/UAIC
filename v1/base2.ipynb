{
 "cells": [
  {
   "cell_type": "code",
   "execution_count": 3,
   "metadata": {},
   "outputs": [
    {
     "ename": "error",
     "evalue": "OpenCV(4.7.0) D:\\a\\opencv-python\\opencv-python\\opencv\\modules\\imgproc\\src\\resize.cpp:4062: error: (-215:Assertion failed) !ssize.empty() in function 'cv::resize'\n",
     "output_type": "error",
     "traceback": [
      "\u001b[1;31m---------------------------------------------------------------------------\u001b[0m",
      "\u001b[1;31merror\u001b[0m                                     Traceback (most recent call last)",
      "Cell \u001b[1;32mIn[3], line 28\u001b[0m\n\u001b[0;32m     26\u001b[0m image_path \u001b[38;5;241m=\u001b[39m os\u001b[38;5;241m.\u001b[39mpath\u001b[38;5;241m.\u001b[39mjoin(image_type_dir, image_name)\n\u001b[0;32m     27\u001b[0m image \u001b[38;5;241m=\u001b[39m cv2\u001b[38;5;241m.\u001b[39mimread(image_path)\n\u001b[1;32m---> 28\u001b[0m image \u001b[38;5;241m=\u001b[39m \u001b[43mcv2\u001b[49m\u001b[38;5;241;43m.\u001b[39;49m\u001b[43mresize\u001b[49m\u001b[43m(\u001b[49m\u001b[43mimage\u001b[49m\u001b[43m,\u001b[49m\u001b[43m \u001b[49m\u001b[43mimage_size\u001b[49m\u001b[43m)\u001b[49m\n\u001b[0;32m     30\u001b[0m \u001b[38;5;66;03m# Normalize pixel values to [0, 1]\u001b[39;00m\n\u001b[0;32m     31\u001b[0m image \u001b[38;5;241m=\u001b[39m image\u001b[38;5;241m.\u001b[39mastype(\u001b[38;5;124m'\u001b[39m\u001b[38;5;124mfloat32\u001b[39m\u001b[38;5;124m'\u001b[39m) \u001b[38;5;241m/\u001b[39m \u001b[38;5;241m255.0\u001b[39m\n",
      "\u001b[1;31merror\u001b[0m: OpenCV(4.7.0) D:\\a\\opencv-python\\opencv-python\\opencv\\modules\\imgproc\\src\\resize.cpp:4062: error: (-215:Assertion failed) !ssize.empty() in function 'cv::resize'\n"
     ]
    }
   ],
   "source": [
    "import os\n",
    "import cv2\n",
    "import numpy as np\n",
    "\n",
    "data_dir = './Datasets/Fish/'\n",
    "classes = os.listdir(data_dir)\n",
    "\n",
    "# Define parameters\n",
    "image_size = (150, 150)  # Set your desired image size\n",
    "num_classes = len(classes)\n",
    "data = []\n",
    "labels = []\n",
    "\n",
    "# Iterate through each class folder\n",
    "for class_index, class_name in enumerate(classes):\n",
    "    class_dir = os.path.join(data_dir, class_name)\n",
    "    image_types = os.listdir(class_dir)\n",
    "    \n",
    "    # Iterate through image types (Body, Head, Scales)\n",
    "    for image_type in image_types:\n",
    "        image_type_dir = os.path.join(class_dir, image_type)\n",
    "        images = os.listdir(image_type_dir)\n",
    "        \n",
    "        # Load images, resize, and add class labels\n",
    "        for image_name in images:\n",
    "            image_path = os.path.join(image_type_dir, image_name)\n",
    "            image = cv2.imread(image_path)\n",
    "            image = cv2.resize(image, image_size)\n",
    "            \n",
    "            # Normalize pixel values to [0, 1]\n",
    "            image = image.astype('float32') / 255.0\n",
    "            \n",
    "            data.append(image)\n",
    "            labels.append(class_index)  # Assign class label\n",
    "\n",
    "# Convert data and labels to NumPy arrays\n",
    "data = np.array(data)\n",
    "labels = np.array(labels)\n",
    "\n",
    "# Shuffle the data\n",
    "shuffle_indices = np.arange(len(data))\n",
    "np.random.shuffle(shuffle_indices)\n",
    "data = data[shuffle_indices]\n",
    "labels = labels[shuffle_indices]\n",
    "\n",
    "# Check the shapes of data and labels\n",
    "print(\"Data shape:\", data.shape)\n",
    "print(\"Labels shape:\", labels.shape)\n"
   ]
  }
 ],
 "metadata": {
  "kernelspec": {
   "display_name": "Python 3",
   "language": "python",
   "name": "python3"
  },
  "language_info": {
   "codemirror_mode": {
    "name": "ipython",
    "version": 3
   },
   "file_extension": ".py",
   "mimetype": "text/x-python",
   "name": "python",
   "nbconvert_exporter": "python",
   "pygments_lexer": "ipython3",
   "version": "3.10.11"
  }
 },
 "nbformat": 4,
 "nbformat_minor": 2
}
