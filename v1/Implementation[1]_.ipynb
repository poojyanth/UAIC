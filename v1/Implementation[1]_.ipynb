{
 "cells": [
  {
   "cell_type": "code",
   "execution_count": 2,
   "metadata": {},
   "outputs": [
    {
     "name": "stdout",
     "output_type": "stream",
     "text": [
      "Class 'Catla' has 20 images.\n",
      "Class 'Cyprinus carpio' has 50 images.\n",
      "Class 'Grass Carp' has 11 images.\n",
      "Class 'Mori' has 70 images.\n",
      "Class 'Rohu' has 73 images.\n",
      "Class 'Silver' has 47 images.\n"
     ]
    }
   ],
   "source": [
    "import os\n",
    "import cv2\n",
    "import numpy as np\n",
    "import tensorflow as tf\n",
    "from tensorflow.keras import layers, models, optimizers\n",
    "from tensorflow.keras.applications import ResNet50\n",
    "from sklearn.model_selection import train_test_split\n",
    "\n",
    "def load_and_process_images(path_dir, class_labels, target_num_images):\n",
    "    images = []\n",
    "    labels = []\n",
    "    min_images = float('inf')\n",
    "    class_images = {}\n",
    "\n",
    "    for label, class_name in enumerate(class_labels):\n",
    "        class_dir = os.path.join(path_dir, class_name)\n",
    "        class_images[class_name] = []\n",
    "\n",
    "        if not os.path.exists(class_dir):\n",
    "            print(f\"Directory '{class_name}' not found in '{path_dir}'. Skipping...\")\n",
    "            continue\n",
    "\n",
    "        for jpg in os.listdir(class_dir):\n",
    "            image_path = os.path.join(class_dir, jpg)\n",
    "            image_high_resolution = cv2.imread(image_path)\n",
    "\n",
    "            if image_high_resolution is None:\n",
    "                print(f\"Could not read image '{jpg}' in '{class_name}' directory. Skipping...\")\n",
    "                continue\n",
    "\n",
    "            image_change_color = cv2.cvtColor(image_high_resolution, cv2.COLOR_BGR2RGB)\n",
    "            image_low_resolution = cv2.resize(image_change_color, (256, 256))\n",
    "            class_images[class_name].append(image_low_resolution)\n",
    "            min_images = min(min_images, len(class_images[class_name]))\n",
    "        print(f\"Class '{class_name}' has {len(class_images[class_name])} images.\")\n",
    "\n",
    "    for class_name, images_list in class_images.items():\n",
    "        images.extend(images_list[:target_num_images])\n",
    "        labels.extend([class_name] * min(len(images_list), target_num_images))\n",
    "\n",
    "    return np.asarray(images), np.asarray(labels)\n",
    "\n",
    "dataset_directory = '/Datasets/DataImages/'\n",
    "class_labels = ['Catla', 'Cyprinus carpio', 'Grass Carp', 'Mori', 'Rohu', 'Silver']\n",
    "target_num_images = 50\n",
    "\n",
    "# Load and preprocess data\n",
    "images, labels = load_and_process_images(dataset_directory, class_labels, target_num_images)\n",
    "\n",
    "# Split data into train and test sets\n",
    "images_train, images_test, labels_train, labels_test = train_test_split(images, labels, test_size=0.2, random_state=42)\n",
    "\n",
    "# Constants\n",
    "BATCH_SIZE = 64\n",
    "TAU = 0.1\n",
    "EPOCHS = 10\n",
    "\n",
    "# Image shape\n",
    "IMG_SHAPE = (256, 256, 3)\n",
    "\n",
    "# Define data augmentation function\n",
    "data_augmentation = tf.keras.Sequential([\n",
    "    layers.experimental.preprocessing.RandomFlip(\"horizontal_and_vertical\"),\n",
    "    layers.experimental.preprocessing.RandomRotation(0.2),\n",
    "    layers.experimental.preprocessing.RandomZoom(0.2),\n",
    "])\n",
    "\n",
    "# Define the SIMCLR model\n",
    "def get_simclr_model(input_shape, temperature=0.1):\n",
    "    base_model = ResNet50(weights=None, include_top=False, input_shape=input_shape)\n",
    "    base_model.trainable = True\n",
    "\n",
    "    inputs = layers.Input(shape=input_shape)\n",
    "    x = data_augmentation(inputs)\n",
    "    h = base_model(x, training=True)\n",
    "    z = layers.GlobalAveragePooling2D()(h)\n",
    "\n",
    "    projection = models.Sequential([\n",
    "        layers.InputLayer(input_shape=(z.shape[1],)),\n",
    "        layers.Dense(256, activation='relu'),\n",
    "        layers.Dense(128, activation='relu')\n",
    "    ], name='projection_head')\n",
    "\n",
    "    z_projection = projection(z)\n",
    "\n",
    "    simclr_model = models.Model(inputs, z_projection, name='simclr_model')\n",
    "    return simclr_model\n"
   ]
  },
  {
   "cell_type": "code",
   "execution_count": 3,
   "metadata": {},
   "outputs": [
    {
     "name": "stderr",
     "output_type": "stream",
     "text": [
      "WARNING:absl:At this time, the v2.11+ optimizer `tf.keras.optimizers.Adam` runs slowly on M1/M2 Macs, please use the legacy Keras optimizer instead, located at `tf.keras.optimizers.legacy.Adam`.\n"
     ]
    },
    {
     "name": "stdout",
     "output_type": "stream",
     "text": [
      "Epoch 1/10\n",
      "3/3 [==============================] - 94s 25s/step - loss: 5.4591 - val_loss: 3.9790\n",
      "Epoch 2/10\n",
      "3/3 [==============================] - 73s 24s/step - loss: 3.7642 - val_loss: 2.3633\n",
      "Epoch 3/10\n",
      "3/3 [==============================] - 76s 25s/step - loss: 3.1200 - val_loss: 2.1719\n",
      "Epoch 4/10\n",
      "3/3 [==============================] - 75s 25s/step - loss: 2.3152 - val_loss: 2.1279\n",
      "Epoch 5/10\n",
      "3/3 [==============================] - 79s 27s/step - loss: 1.6676 - val_loss: 1.6655\n",
      "Epoch 6/10\n",
      "3/3 [==============================] - 75s 25s/step - loss: 1.4101 - val_loss: 1.4058\n",
      "Epoch 7/10\n",
      "3/3 [==============================] - 80s 28s/step - loss: 1.1296 - val_loss: 1.7553\n",
      "Epoch 8/10\n",
      "3/3 [==============================] - 74s 25s/step - loss: 1.1701 - val_loss: 1.1938\n",
      "Epoch 9/10\n",
      "3/3 [==============================] - 74s 24s/step - loss: 1.0335 - val_loss: 1.3698\n",
      "Epoch 10/10\n",
      "3/3 [==============================] - 72s 24s/step - loss: 1.0310 - val_loss: 0.9905\n",
      "2/2 [==============================] - 5s 1s/step - loss: 1.1159\n",
      "Test Loss: 1.1158559322357178\n"
     ]
    }
   ],
   "source": [
    "from sklearn.preprocessing import LabelEncoder\n",
    "\n",
    "# Convert class labels to integer labels\n",
    "label_encoder = LabelEncoder()\n",
    "labels_train_encoded = label_encoder.fit_transform(labels_train)\n",
    "labels_test_encoded = label_encoder.transform(labels_test)\n",
    "\n",
    "# Compile the model with the custom contrastive loss function and gradient clipping\n",
    "optimizer = optimizers.Adam(learning_rate=0.001, clipnorm=1.0)  # You can adjust the clipnorm value\n",
    "simclr_model = get_simclr_model(IMG_SHAPE, temperature=TAU)\n",
    "simclr_model.compile(optimizer=optimizer, loss=tf.keras.losses.SparseCategoricalCrossentropy(from_logits=True))\n",
    "\n",
    "# Train the model\n",
    "simclr_model.fit(images_train, labels_train_encoded, batch_size=BATCH_SIZE, epochs=EPOCHS, validation_data=(images_test, labels_test_encoded))\n",
    "\n",
    "# Evaluate the model on test data\n",
    "test_loss = simclr_model.evaluate(images_test, labels_test_encoded)\n",
    "print(f'Test Loss: {test_loss}')\n"
   ]
  },
  {
   "cell_type": "code",
   "execution_count": 4,
   "metadata": {},
   "outputs": [
    {
     "data": {
      "image/png": "[encoded data removed]",
      "text/plain": [
       "<Figure size 640x480 with 1 Axes>"
      ]
     },
     "metadata": {},
     "output_type": "display_data"
    }
   ],
   "source": [
    "import matplotlib.pyplot as plt\n",
    "\n",
    "# Define the losses\n",
    "train_losses = [5.4591, 3.7642, 3.1200, 2.3152, 1.6676, 1.4101, 1.1296, 1.1701, 1.0335, 1.0310]\n",
    "val_losses = [3.9790, 2.3633, 2.1719, 2.1279, 1.6655, 1.4058, 1.7553, 1.1938, 1.3698, 0.9905]\n",
    "epochs = range(1, len(train_losses) + 1)\n",
    "\n",
    "# Plot the losses\n",
    "plt.plot(epochs, train_losses, 'b', label='Training loss')\n",
    "plt.plot(epochs, val_losses, 'r', label='Validation loss')\n",
    "plt.title('Training and Validation Losses')\n",
    "plt.xlabel('Epochs')\n",
    "plt.ylabel('Loss')\n",
    "plt.legend()\n",
    "plt.show()\n"
   ]
  },
  {
   "cell_type": "code",
   "execution_count": null,
   "metadata": {},
   "outputs": [],
   "source": []
  }
 ],
 "metadata": {
  "kernelspec": {
   "display_name": "Python 3",
   "language": "python",
   "name": "python3"
  },
  "language_info": {
   "codemirror_mode": {
    "name": "ipython",
    "version": 3
   },
   "file_extension": ".py",
   "mimetype": "text/x-python",
   "name": "python",
   "nbconvert_exporter": "python",
   "pygments_lexer": "ipython3",
   "version": "3.10.8"
  }
 },
 "nbformat": 4,
 "nbformat_minor": 2
}
